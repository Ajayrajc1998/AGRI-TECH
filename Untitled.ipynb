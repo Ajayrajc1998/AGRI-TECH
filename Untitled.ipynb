{
 "cells": [
  {
   "cell_type": "code",
   "execution_count": 3,
   "id": "49002756",
   "metadata": {},
   "outputs": [
    {
     "name": "stderr",
     "output_type": "stream",
     "text": [
      "C:\\Users\\aksha\\AppData\\Local\\Temp\\ipykernel_14872\\3948235877.py:2: DtypeWarning: Columns (5) have mixed types. Specify dtype option on import or set low_memory=False.\n",
      "  df=pd.read_csv('Crops_from_Absinthe_to_Corriander-seed.csv')\n"
     ]
    },
    {
     "data": {
      "text/html": [
       "<div>\n",
       "<style scoped>\n",
       "    .dataframe tbody tr th:only-of-type {\n",
       "        vertical-align: middle;\n",
       "    }\n",
       "\n",
       "    .dataframe tbody tr th {\n",
       "        vertical-align: top;\n",
       "    }\n",
       "\n",
       "    .dataframe thead th {\n",
       "        text-align: right;\n",
       "    }\n",
       "</style>\n",
       "<table border=\"1\" class=\"dataframe\">\n",
       "  <thead>\n",
       "    <tr style=\"text-align: right;\">\n",
       "      <th></th>\n",
       "      <th>State Name</th>\n",
       "      <th>District Name</th>\n",
       "      <th>Market Name</th>\n",
       "      <th>Variety</th>\n",
       "      <th>Group</th>\n",
       "      <th>Arrivals (Tonnes)</th>\n",
       "      <th>Min Price (Rs./Quintal)</th>\n",
       "      <th>Max Price (Rs./Quintal)</th>\n",
       "      <th>Modal Price (Rs./Quintal)</th>\n",
       "      <th>Reported Date</th>\n",
       "    </tr>\n",
       "  </thead>\n",
       "  <tbody>\n",
       "    <tr>\n",
       "      <th>0</th>\n",
       "      <td>Madhya Pradesh</td>\n",
       "      <td>Chhindwara</td>\n",
       "      <td>Amarwda</td>\n",
       "      <td>Arhar Dal(Tur)</td>\n",
       "      <td>Pulses</td>\n",
       "      <td>2.5</td>\n",
       "      <td>4000.0</td>\n",
       "      <td>4000.0</td>\n",
       "      <td>4000.0</td>\n",
       "      <td>18-Oct-23</td>\n",
       "    </tr>\n",
       "    <tr>\n",
       "      <th>1</th>\n",
       "      <td>Madhya Pradesh</td>\n",
       "      <td>Chhindwara</td>\n",
       "      <td>Amarwda</td>\n",
       "      <td>Arhar Dal(Tur)</td>\n",
       "      <td>Pulses</td>\n",
       "      <td>0.5</td>\n",
       "      <td>8000.0</td>\n",
       "      <td>8000.0</td>\n",
       "      <td>8000.0</td>\n",
       "      <td>17-Jul-23</td>\n",
       "    </tr>\n",
       "    <tr>\n",
       "      <th>2</th>\n",
       "      <td>Madhya Pradesh</td>\n",
       "      <td>Chhindwara</td>\n",
       "      <td>Amarwda</td>\n",
       "      <td>Arhar Dal(Tur)</td>\n",
       "      <td>Pulses</td>\n",
       "      <td>8</td>\n",
       "      <td>8000.0</td>\n",
       "      <td>8200.0</td>\n",
       "      <td>8100.0</td>\n",
       "      <td>16-Jul-23</td>\n",
       "    </tr>\n",
       "    <tr>\n",
       "      <th>3</th>\n",
       "      <td>Madhya Pradesh</td>\n",
       "      <td>Chhindwara</td>\n",
       "      <td>Amarwda</td>\n",
       "      <td>Arhar Dal(Tur)</td>\n",
       "      <td>Pulses</td>\n",
       "      <td>2.5</td>\n",
       "      <td>6000.0</td>\n",
       "      <td>6500.0</td>\n",
       "      <td>6250.0</td>\n",
       "      <td>16-May-23</td>\n",
       "    </tr>\n",
       "    <tr>\n",
       "      <th>4</th>\n",
       "      <td>Madhya Pradesh</td>\n",
       "      <td>Chhindwara</td>\n",
       "      <td>Amarwda</td>\n",
       "      <td>Arhar Dal(Tur)</td>\n",
       "      <td>Pulses</td>\n",
       "      <td>9</td>\n",
       "      <td>6500.0</td>\n",
       "      <td>7000.0</td>\n",
       "      <td>6550.0</td>\n",
       "      <td>22-Mar-23</td>\n",
       "    </tr>\n",
       "  </tbody>\n",
       "</table>\n",
       "</div>"
      ],
      "text/plain": [
       "       State Name District Name Market Name         Variety   Group  \\\n",
       "0  Madhya Pradesh    Chhindwara     Amarwda  Arhar Dal(Tur)  Pulses   \n",
       "1  Madhya Pradesh    Chhindwara     Amarwda  Arhar Dal(Tur)  Pulses   \n",
       "2  Madhya Pradesh    Chhindwara     Amarwda  Arhar Dal(Tur)  Pulses   \n",
       "3  Madhya Pradesh    Chhindwara     Amarwda  Arhar Dal(Tur)  Pulses   \n",
       "4  Madhya Pradesh    Chhindwara     Amarwda  Arhar Dal(Tur)  Pulses   \n",
       "\n",
       "  Arrivals (Tonnes)  Min Price (Rs./Quintal)  Max Price (Rs./Quintal)  \\\n",
       "0               2.5                   4000.0                   4000.0   \n",
       "1               0.5                   8000.0                   8000.0   \n",
       "2                 8                   8000.0                   8200.0   \n",
       "3               2.5                   6000.0                   6500.0   \n",
       "4                 9                   6500.0                   7000.0   \n",
       "\n",
       "   Modal Price (Rs./Quintal) Reported Date  \n",
       "0                     4000.0     18-Oct-23  \n",
       "1                     8000.0     17-Jul-23  \n",
       "2                     8100.0     16-Jul-23  \n",
       "3                     6250.0     16-May-23  \n",
       "4                     6550.0     22-Mar-23  "
      ]
     },
     "execution_count": 3,
     "metadata": {},
     "output_type": "execute_result"
    }
   ],
   "source": [
    "import pandas as pd\n",
    "df=pd.read_csv('Crops_from_Absinthe_to_Corriander-seed.csv')\n",
    "df.head()"
   ]
  },
  {
   "cell_type": "code",
   "execution_count": null,
   "id": "acda2be9",
   "metadata": {},
   "outputs": [],
   "source": []
  }
 ],
 "metadata": {
  "kernelspec": {
   "display_name": "dsvenv",
   "language": "python",
   "name": "dsvenv"
  },
  "language_info": {
   "codemirror_mode": {
    "name": "ipython",
    "version": 3
   },
   "file_extension": ".py",
   "mimetype": "text/x-python",
   "name": "python",
   "nbconvert_exporter": "python",
   "pygments_lexer": "ipython3",
   "version": "3.10.11"
  },
  "varInspector": {
   "cols": {
    "lenName": 16,
    "lenType": 16,
    "lenVar": 40
   },
   "kernels_config": {
    "python": {
     "delete_cmd_postfix": "",
     "delete_cmd_prefix": "del ",
     "library": "var_list.py",
     "varRefreshCmd": "print(var_dic_list())"
    },
    "r": {
     "delete_cmd_postfix": ") ",
     "delete_cmd_prefix": "rm(",
     "library": "var_list.r",
     "varRefreshCmd": "cat(var_dic_list()) "
    }
   },
   "types_to_exclude": [
    "module",
    "function",
    "builtin_function_or_method",
    "instance",
    "_Feature"
   ],
   "window_display": false
  }
 },
 "nbformat": 4,
 "nbformat_minor": 5
}
