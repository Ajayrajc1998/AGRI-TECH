{
 "cells": [
  {
   "cell_type": "code",
   "execution_count": 3,
   "id": "71af9544",
   "metadata": {},
   "outputs": [
    {
     "name": "stderr",
     "output_type": "stream",
     "text": [
      "C:\\Users\\aksha\\AppData\\Local\\Temp\\ipykernel_14872\\3948235877.py:2: DtypeWarning: Columns (5) have mixed types. Specify dtype option on import or set low_memory=False.\n",
      "  df=pd.read_csv('Crops_from_Absinthe_to_Corriander-seed.csv')\n"
     ]
    },
    {
     "data": {
      "text/html": [
       "<div>\n",
       "<style scoped>\n",
       "    .dataframe tbody tr th:only-of-type {\n",
       "        vertical-align: middle;\n",
       "    }\n",
       "\n",
       "    .dataframe tbody tr th {\n",
       "        vertical-align: top;\n",
       "    }\n",
       "\n",
       "    .dataframe thead th {\n",
       "        text-align: right;\n",
       "    }\n",
       "</style>\n",
       "<table border=\"1\" class=\"dataframe\">\n",
       "  <thead>\n",
       "    <tr style=\"text-align: right;\">\n",
       "      <th></th>\n",
       "      <th>State Name</th>\n",
       "      <th>District Name</th>\n",
       "      <th>Market Name</th>\n",
       "      <th>Variety</th>\n",
       "      <th>Group</th>\n",
       "      <th>Arrivals (Tonnes)</th>\n",
       "      <th>Min Price (Rs./Quintal)</th>\n",
       "      <th>Max Price (Rs./Quintal)</th>\n",
       "      <th>Modal Price (Rs./Quintal)</th>\n",
       "      <th>Reported Date</th>\n",
       "    </tr>\n",
       "  </thead>\n",
       "  <tbody>\n",
       "    <tr>\n",
       "      <th>0</th>\n",
       "      <td>Madhya Pradesh</td>\n",
       "      <td>Chhindwara</td>\n",
       "      <td>Amarwda</td>\n",
       "      <td>Arhar Dal(Tur)</td>\n",
       "      <td>Pulses</td>\n",
       "      <td>2.5</td>\n",
       "      <td>4000.0</td>\n",
       "      <td>4000.0</td>\n",
       "      <td>4000.0</td>\n",
       "      <td>18-Oct-23</td>\n",
       "    </tr>\n",
       "    <tr>\n",
       "      <th>1</th>\n",
       "      <td>Madhya Pradesh</td>\n",
       "      <td>Chhindwara</td>\n",
       "      <td>Amarwda</td>\n",
       "      <td>Arhar Dal(Tur)</td>\n",
       "      <td>Pulses</td>\n",
       "      <td>0.5</td>\n",
       "      <td>8000.0</td>\n",
       "      <td>8000.0</td>\n",
       "      <td>8000.0</td>\n",
       "      <td>17-Jul-23</td>\n",
       "    </tr>\n",
       "    <tr>\n",
       "      <th>2</th>\n",
       "      <td>Madhya Pradesh</td>\n",
       "      <td>Chhindwara</td>\n",
       "      <td>Amarwda</td>\n",
       "      <td>Arhar Dal(Tur)</td>\n",
       "      <td>Pulses</td>\n",
       "      <td>8</td>\n",
       "      <td>8000.0</td>\n",
       "      <td>8200.0</td>\n",
       "      <td>8100.0</td>\n",
       "      <td>16-Jul-23</td>\n",
       "    </tr>\n",
       "    <tr>\n",
       "      <th>3</th>\n",
       "      <td>Madhya Pradesh</td>\n",
       "      <td>Chhindwara</td>\n",
       "      <td>Amarwda</td>\n",
       "      <td>Arhar Dal(Tur)</td>\n",
       "      <td>Pulses</td>\n",
       "      <td>2.5</td>\n",
       "      <td>6000.0</td>\n",
       "      <td>6500.0</td>\n",
       "      <td>6250.0</td>\n",
       "      <td>16-May-23</td>\n",
       "    </tr>\n",
       "    <tr>\n",
       "      <th>4</th>\n",
       "      <td>Madhya Pradesh</td>\n",
       "      <td>Chhindwara</td>\n",
       "      <td>Amarwda</td>\n",
       "      <td>Arhar Dal(Tur)</td>\n",
       "      <td>Pulses</td>\n",
       "      <td>9</td>\n",
       "      <td>6500.0</td>\n",
       "      <td>7000.0</td>\n",
       "      <td>6550.0</td>\n",
       "      <td>22-Mar-23</td>\n",
       "    </tr>\n",
       "  </tbody>\n",
       "</table>\n",
       "</div>"
      ],
      "text/plain": [
       "       State Name District Name Market Name         Variety   Group  \\\n",
       "0  Madhya Pradesh    Chhindwara     Amarwda  Arhar Dal(Tur)  Pulses   \n",
       "1  Madhya Pradesh    Chhindwara     Amarwda  Arhar Dal(Tur)  Pulses   \n",
       "2  Madhya Pradesh    Chhindwara     Amarwda  Arhar Dal(Tur)  Pulses   \n",
       "3  Madhya Pradesh    Chhindwara     Amarwda  Arhar Dal(Tur)  Pulses   \n",
       "4  Madhya Pradesh    Chhindwara     Amarwda  Arhar Dal(Tur)  Pulses   \n",
       "\n",
       "  Arrivals (Tonnes)  Min Price (Rs./Quintal)  Max Price (Rs./Quintal)  \\\n",
       "0               2.5                   4000.0                   4000.0   \n",
       "1               0.5                   8000.0                   8000.0   \n",
       "2                 8                   8000.0                   8200.0   \n",
       "3               2.5                   6000.0                   6500.0   \n",
       "4                 9                   6500.0                   7000.0   \n",
       "\n",
       "   Modal Price (Rs./Quintal) Reported Date  \n",
       "0                     4000.0     18-Oct-23  \n",
       "1                     8000.0     17-Jul-23  \n",
       "2                     8100.0     16-Jul-23  \n",
       "3                     6250.0     16-May-23  \n",
       "4                     6550.0     22-Mar-23  "
      ]
     },
     "execution_count": 3,
     "metadata": {},
     "output_type": "execute_result"
    }
   ],
   "source": [
    "import pandas as pd\n",
    "df=pd.read_csv('Crops_from_Absinthe_to_Corriander-seed.csv')\n",
    "df.head()"
   ]
  },
  {
   "cell_type": "code",
   "execution_count": 4,
   "id": "ccb67e47",
   "metadata": {},
   "outputs": [
    {
     "data": {
      "text/plain": [
       "Index(['State Name', 'District Name', 'Market Name', 'Variety', 'Group',\n",
       "       'Arrivals (Tonnes)', 'Min Price (Rs./Quintal)',\n",
       "       'Max Price (Rs./Quintal)', 'Modal Price (Rs./Quintal)',\n",
       "       'Reported Date'],\n",
       "      dtype='object')"
      ]
     },
     "execution_count": 4,
     "metadata": {},
     "output_type": "execute_result"
    }
   ],
   "source": [
    "df.columns"
   ]
  },
  {
   "cell_type": "code",
   "execution_count": 5,
   "id": "68f413ad",
   "metadata": {},
   "outputs": [
    {
     "data": {
      "text/plain": [
       "array(['Arhar Dal(Tur)', 'Ordinary (Split)', 'Ajwan', 'Other',\n",
       "       'Alasande Gram', 'Alsandikai', 'Ambada Seed', 'Amla', 'Amaranthus',\n",
       "       'Antawala', 'Apple', 'Red Gold', 'Simla', 'Royal Delicious',\n",
       "       'American', 'Delicious', 'Apricot(Jardalu/Khumani)', 'Deshi',\n",
       "       'Local', 'Bold', 'Hybrid', 'Amruthapani', 'Khandesh',\n",
       "       'Banana - Ripe', 'Desi(Bontha)', 'Bhushavali(Pacha)', 'Medium',\n",
       "       'Beans (Whole)', 'Beaten Rice', 'Beetroot', 'Bengal Gram (Split)',\n",
       "       'Desi (F.A.Q. Split)', 'Bengal Gram Dal', 'Kabal (Split)',\n",
       "       'Ber(Zizyphus)', 'Bitter Gourd', 'Black Gram Dal', 'Bottle Gourd',\n",
       "       'Cabbage', 'Capsicum', 'Carrot', 'Castor seed', 'Caster',\n",
       "       'Chennangi (W)', 'Gram Kata', 'Chennangi Dal', 'Sapota', 'Red',\n",
       "       'Grade II', 'Dry Sup', 'Cinamon(Dalchini)', 'Cluster Beans',\n",
       "       'Colacasia', 'Coriander', 'Ashgourd', 'Avare (W-S)'], dtype=object)"
      ]
     },
     "execution_count": 5,
     "metadata": {},
     "output_type": "execute_result"
    }
   ],
   "source": [
    "df['Variety'].unique()"
   ]
  },
  {
   "cell_type": "code",
   "execution_count": 6,
   "id": "58233114",
   "metadata": {},
   "outputs": [
    {
     "data": {
      "text/plain": [
       "56"
      ]
     },
     "execution_count": 6,
     "metadata": {},
     "output_type": "execute_result"
    }
   ],
   "source": [
    "len(df['Variety'].unique())"
   ]
  },
  {
   "cell_type": "code",
   "execution_count": 7,
   "id": "556704c8",
   "metadata": {},
   "outputs": [
    {
     "data": {
      "text/html": [
       "<div>\n",
       "<style scoped>\n",
       "    .dataframe tbody tr th:only-of-type {\n",
       "        vertical-align: middle;\n",
       "    }\n",
       "\n",
       "    .dataframe tbody tr th {\n",
       "        vertical-align: top;\n",
       "    }\n",
       "\n",
       "    .dataframe thead th {\n",
       "        text-align: right;\n",
       "    }\n",
       "</style>\n",
       "<table border=\"1\" class=\"dataframe\">\n",
       "  <thead>\n",
       "    <tr style=\"text-align: right;\">\n",
       "      <th></th>\n",
       "      <th>date</th>\n",
       "    </tr>\n",
       "  </thead>\n",
       "  <tbody>\n",
       "    <tr>\n",
       "      <th>0</th>\n",
       "      <td>10-Jul-18</td>\n",
       "    </tr>\n",
       "    <tr>\n",
       "      <th>1</th>\n",
       "      <td>10-Jul-18</td>\n",
       "    </tr>\n",
       "    <tr>\n",
       "      <th>2</th>\n",
       "      <td>10-Jul-18</td>\n",
       "    </tr>\n",
       "  </tbody>\n",
       "</table>\n",
       "</div>"
      ],
      "text/plain": [
       "        date\n",
       "0  10-Jul-18\n",
       "1  10-Jul-18\n",
       "2  10-Jul-18"
      ]
     },
     "execution_count": 7,
     "metadata": {},
     "output_type": "execute_result"
    }
   ],
   "source": [
    "df=pd.DataFrame({'date':['10-Jul-18','10-Jul-18','10-Jul-18']})\n",
    "df.head()"
   ]
  },
  {
   "cell_type": "code",
   "execution_count": 8,
   "id": "b3498f80",
   "metadata": {},
   "outputs": [
    {
     "name": "stdout",
     "output_type": "stream",
     "text": [
      "<class 'pandas.core.frame.DataFrame'>\n",
      "RangeIndex: 3 entries, 0 to 2\n",
      "Data columns (total 1 columns):\n",
      " #   Column  Non-Null Count  Dtype \n",
      "---  ------  --------------  ----- \n",
      " 0   date    3 non-null      object\n",
      "dtypes: object(1)\n",
      "memory usage: 152.0+ bytes\n"
     ]
    }
   ],
   "source": [
    "df.info()"
   ]
  },
  {
   "cell_type": "code",
   "execution_count": 9,
   "id": "9005fb16",
   "metadata": {},
   "outputs": [],
   "source": [
    "df['date'] = pd.to_datetime(df['date'], format='%d-%b-%y')"
   ]
  },
  {
   "cell_type": "code",
   "execution_count": 10,
   "id": "4c97eaf4",
   "metadata": {},
   "outputs": [
    {
     "name": "stdout",
     "output_type": "stream",
     "text": [
      "<class 'pandas.core.frame.DataFrame'>\n",
      "RangeIndex: 3 entries, 0 to 2\n",
      "Data columns (total 1 columns):\n",
      " #   Column  Non-Null Count  Dtype         \n",
      "---  ------  --------------  -----         \n",
      " 0   date    3 non-null      datetime64[ns]\n",
      "dtypes: datetime64[ns](1)\n",
      "memory usage: 152.0 bytes\n"
     ]
    }
   ],
   "source": [
    "df.info()"
   ]
  },
  {
   "cell_type": "code",
   "execution_count": null,
   "id": "4f804cfd",
   "metadata": {},
   "outputs": [],
   "source": []
  }
 ],
 "metadata": {
  "kernelspec": {
   "display_name": "dsvenv",
   "language": "python",
   "name": "dsvenv"
  },
  "language_info": {
   "codemirror_mode": {
    "name": "ipython",
    "version": 3
   },
   "file_extension": ".py",
   "mimetype": "text/x-python",
   "name": "python",
   "nbconvert_exporter": "python",
   "pygments_lexer": "ipython3",
   "version": "3.10.11"
  },
  "varInspector": {
   "cols": {
    "lenName": 16,
    "lenType": 16,
    "lenVar": 40
   },
   "kernels_config": {
    "python": {
     "delete_cmd_postfix": "",
     "delete_cmd_prefix": "del ",
     "library": "var_list.py",
     "varRefreshCmd": "print(var_dic_list())"
    },
    "r": {
     "delete_cmd_postfix": ") ",
     "delete_cmd_prefix": "rm(",
     "library": "var_list.r",
     "varRefreshCmd": "cat(var_dic_list()) "
    }
   },
   "types_to_exclude": [
    "module",
    "function",
    "builtin_function_or_method",
    "instance",
    "_Feature"
   ],
   "window_display": false
  }
 },
 "nbformat": 4,
 "nbformat_minor": 5
}
